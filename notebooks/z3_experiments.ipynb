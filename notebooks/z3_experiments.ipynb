{
 "cells": [
  {
   "cell_type": "code",
   "execution_count": 2,
   "metadata": {},
   "outputs": [],
   "source": [
    "from z3 import *"
   ]
  },
  {
   "cell_type": "code",
   "execution_count": null,
   "metadata": {},
   "outputs": [],
   "source": []
  },
  {
   "cell_type": "code",
   "execution_count": 3,
   "metadata": {},
   "outputs": [
    {
     "name": "stdout",
     "output_type": "stream",
     "text": [
      "[y = 0, x = 7]\n"
     ]
    }
   ],
   "source": [
    "x = Int('x')\n",
    "y = Int('y')\n",
    "solve(x > 2, y < 10, x + 2*y == 7)"
   ]
  },
  {
   "cell_type": "code",
   "execution_count": 4,
   "metadata": {},
   "outputs": [
    {
     "name": "stdout",
     "output_type": "stream",
     "text": [
      "3 + 3*x + y\n",
      "Not(y <= -2)\n",
      "And(x >= 2, 2*x**2 + y**2 >= 3)\n"
     ]
    }
   ],
   "source": [
    "x = Int('x')\n",
    "y = Int('y')\n",
    "print (simplify(x + y + 2*x + 3))\n",
    "print (simplify(x < y + x + 2))\n",
    "print (simplify(And(x + 1 >= 3, x**2 + x**2 + y**2 + 2 >= 5)))"
   ]
  },
  {
   "attachments": {},
   "cell_type": "markdown",
   "metadata": {},
   "source": [
    "For simplification, the constraint only present \">=, <=\", cannot present \"<\" or \">\"."
   ]
  },
  {
   "cell_type": "code",
   "execution_count": 5,
   "metadata": {},
   "outputs": [
    {
     "name": "stdout",
     "output_type": "stream",
     "text": [
      "x**2 + y**2 >= 1\n",
      "x**2 + y**2 >= 1\n"
     ]
    }
   ],
   "source": [
    "x = Int('x')\n",
    "y = Int('y')\n",
    "print (x**2 + y**2 >= 1)\n",
    "set_option(html_mode=False)\n",
    "print (x**2 + y**2 >= 1)"
   ]
  },
  {
   "cell_type": "code",
   "execution_count": 6,
   "metadata": {},
   "outputs": [
    {
     "name": "stdout",
     "output_type": "stream",
     "text": [
      "num args:  2\n",
      "children:  [x + y, 3]\n",
      "1st child: x + y\n",
      "2nd child: 3\n",
      "operator:  >=\n",
      "op name:   >=\n"
     ]
    }
   ],
   "source": [
    "x = Int('x')\n",
    "y = Int('y')\n",
    "n = x + y >= 3\n",
    "print (\"num args: \", n.num_args())\n",
    "print (\"children: \", n.children())\n",
    "print (\"1st child:\", n.arg(0))\n",
    "print (\"2nd child:\", n.arg(1))\n",
    "print (\"operator: \", n.decl())\n",
    "print (\"op name:  \", n.decl().name())\n"
   ]
  },
  {
   "cell_type": "code",
   "execution_count": 7,
   "metadata": {},
   "outputs": [
    {
     "name": "stdout",
     "output_type": "stream",
     "text": [
      "[y = 2, x = 1/8]\n"
     ]
    }
   ],
   "source": [
    "x = Real('x')\n",
    "y = Real('y')\n",
    "solve(x**2 + y**2 > 3, x**3 + y < 5)"
   ]
  },
  {
   "cell_type": "code",
   "execution_count": 8,
   "metadata": {},
   "outputs": [
    {
     "name": "stdout",
     "output_type": "stream",
     "text": [
      "[y = -1.1885280594?, x = 1.2599210498?]\n",
      "Solving, and displaying result with 30 decimal places\n",
      "[y = -1.188528059421316533710369365015?,\n",
      " x = 1.259921049894873164767210607278?]\n"
     ]
    }
   ],
   "source": [
    "x = Real('x')\n",
    "y = Real('y')\n",
    "solve(x**2 + y**2 == 3, x**3 == 2)\n",
    "\n",
    "set_option(precision=30)\n",
    "print (\"Solving, and displaying result with 30 decimal places\")\n",
    "solve(x**2 + y**2 == 3, x**3 == 2)"
   ]
  },
  {
   "cell_type": "code",
   "execution_count": 9,
   "metadata": {},
   "outputs": [
    {
     "name": "stdout",
     "output_type": "stream",
     "text": [
      "0.3333333333333333\n",
      "1/3\n",
      "1/3\n",
      "x + 3333333333333333/10000000000000000\n",
      "x + 1/3\n",
      "x + 1/3\n",
      "x + 1/4\n"
     ]
    }
   ],
   "source": [
    "print (1/3)\n",
    "print (RealVal(1)/3)\n",
    "print (Q(1,3))\n",
    "\n",
    "x = Real('x')\n",
    "print (x + 1/3)\n",
    "print (x + Q(1,3))\n",
    "print (x + \"1/3\")\n",
    "print (x + 0.25)"
   ]
  },
  {
   "cell_type": "code",
   "execution_count": 10,
   "metadata": {},
   "outputs": [
    {
     "name": "stdout",
     "output_type": "stream",
     "text": [
      "[x = 1/3]\n",
      "[x = 0.333333333333333333333333333333?]\n"
     ]
    },
    {
     "name": "stdout",
     "output_type": "stream",
     "text": [
      "[x = 0.333333333333333333333333333333?]\n"
     ]
    }
   ],
   "source": [
    "x = Real('x')\n",
    "solve(3*x == 1)\n",
    "\n",
    "set_option(rational_to_decimal=True)\n",
    "solve(3*x == 1)\n",
    "\n",
    "set_option(precision=30)\n",
    "solve(3*x == 1)\n"
   ]
  },
  {
   "cell_type": "code",
   "execution_count": 11,
   "metadata": {},
   "outputs": [
    {
     "name": "stdout",
     "output_type": "stream",
     "text": [
      "no solution\n"
     ]
    }
   ],
   "source": [
    "x = Real('x')\n",
    "solve(x > 4, x < 0)\n"
   ]
  },
  {
   "cell_type": "code",
   "execution_count": 12,
   "metadata": {},
   "outputs": [
    {
     "name": "stdout",
     "output_type": "stream",
     "text": [
      "[p = False, q = True, r = False]\n"
     ]
    }
   ],
   "source": [
    "p = Bool('p')\n",
    "q = Bool('q')\n",
    "r = Bool('r')\n",
    "solve(Implies(p, q), r == Not(q), Or(Not(p), r))"
   ]
  },
  {
   "cell_type": "code",
   "execution_count": 15,
   "metadata": {},
   "outputs": [
    {
     "name": "stdout",
     "output_type": "stream",
     "text": [
      "[]\n",
      "[x > 10, y == x + 2]\n",
      "Solving constraints in the solver s ...\n",
      "sat\n",
      "[x > 10, y == x + 2]\n"
     ]
    }
   ],
   "source": [
    "x = Int('x')\n",
    "y = Int('y')\n",
    "\n",
    "s = Solver()\n",
    "print (s)\n",
    "\n",
    "s.add(x > 10, y == x + 2)\n",
    "print (s)\n",
    "print (\"Solving constraints in the solver s ...\")\n",
    "print (s.check())\n",
    "print (s)\n"
   ]
  },
  {
   "cell_type": "code",
   "execution_count": 16,
   "metadata": {},
   "outputs": [
    {
     "name": "stdout",
     "output_type": "stream",
     "text": [
      "Create a new scope...\n",
      "[x > 10, y == x + 2, y < 11]\n",
      "Solving updated set of constraints...\n",
      "unsat\n",
      "Restoring state...\n",
      "[x > 10, y == x + 2]\n",
      "Solving restored set of constraints...\n",
      "sat\n"
     ]
    }
   ],
   "source": [
    "\n",
    "print (\"Create a new scope...\")\n",
    "s.push()\n",
    "s.add(y < 11)\n",
    "print (s)\n",
    "print (\"Solving updated set of constraints...\")\n",
    "print (s.check())\n",
    "\n",
    "print (\"Restoring state...\")\n",
    "s.pop()\n",
    "print (s)\n",
    "print (\"Solving restored set of constraints...\")\n",
    "print (s.check())"
   ]
  },
  {
   "attachments": {},
   "cell_type": "markdown",
   "metadata": {},
   "source": [
    "z3 can solve polinomial or nonlinear polynomical constraints, but not $2 ^ x$\n",
    "If z3 cannot solve, return \"unknown\""
   ]
  },
  {
   "cell_type": "code",
   "execution_count": 18,
   "metadata": {},
   "outputs": [
    {
     "name": "stdout",
     "output_type": "stream",
     "text": [
      "unknown\n"
     ]
    }
   ],
   "source": [
    "x = Real('x')\n",
    "s = Solver()\n",
    "s.add(2**x == 3)\n",
    "print (s.check())"
   ]
  },
  {
   "cell_type": "code",
   "execution_count": 19,
   "metadata": {},
   "outputs": [
    {
     "name": "stdout",
     "output_type": "stream",
     "text": [
      "asserted constraints...\n",
      "x > 1\n",
      "y > 1\n",
      "Or(x + y > 3, x - y < 2)\n",
      "sat\n",
      "statistics for the last check method...\n",
      "(:arith-make-feasible 3\n",
      " :arith-max-columns   8\n",
      " :arith-max-rows      2\n",
      " :arith-upper         4\n",
      " :decisions           2\n",
      " :final-checks        1\n",
      " :max-memory          21.70\n",
      " :memory              20.63\n",
      " :mk-bool-var         4\n",
      " :mk-clause-binary    1\n",
      " :num-allocs          676150660\n",
      " :num-checks          1\n",
      " :rlimit-count        4900\n",
      " :time                0.02)\n",
      "decisions : 2\n",
      "final checks : 1\n",
      "mk clause binary : 1\n",
      "num checks : 1\n",
      "mk bool var : 4\n",
      "arith-upper : 4\n",
      "arith-make-feasible : 3\n",
      "arith-max-columns : 8\n",
      "arith-max-rows : 2\n",
      "num allocs : 676150660\n",
      "rlimit count : 4900\n",
      "max memory : 21.7\n",
      "memory : 20.63\n",
      "time : 0.016\n"
     ]
    }
   ],
   "source": [
    "x = Real('x')\n",
    "y = Real('y')\n",
    "s = Solver()\n",
    "s.add(x > 1, y > 1, Or(x + y > 3, x - y < 2))\n",
    "print (\"asserted constraints...\")\n",
    "for c in s.assertions():\n",
    "    print (c)\n",
    "\n",
    "print (s.check())\n",
    "print (\"statistics for the last check method...\")\n",
    "print (s.statistics())\n",
    "# Traversing statistics\n",
    "for k, v in s.statistics():\n",
    "    print (\"%s : %s\" % (k, v))"
   ]
  },
  {
   "cell_type": "code",
   "execution_count": 21,
   "metadata": {},
   "outputs": [
    {
     "name": "stdout",
     "output_type": "stream",
     "text": [
      "[[x_1_1, x_1_2, x_1_3, x_1_4, x_1_5, x_1_6, x_1_7, x_1_8, x_1_9], [x_2_1, x_2_2, x_2_3, x_2_4, x_2_5, x_2_6, x_2_7, x_2_8, x_2_9], [x_3_1, x_3_2, x_3_3, x_3_4, x_3_5, x_3_6, x_3_7, x_3_8, x_3_9], [x_4_1, x_4_2, x_4_3, x_4_4, x_4_5, x_4_6, x_4_7, x_4_8, x_4_9], [x_5_1, x_5_2, x_5_3, x_5_4, x_5_5, x_5_6, x_5_7, x_5_8, x_5_9], [x_6_1, x_6_2, x_6_3, x_6_4, x_6_5, x_6_6, x_6_7, x_6_8, x_6_9], [x_7_1, x_7_2, x_7_3, x_7_4, x_7_5, x_7_6, x_7_7, x_7_8, x_7_9], [x_8_1, x_8_2, x_8_3, x_8_4, x_8_5, x_8_6, x_8_7, x_8_8, x_8_9], [x_9_1, x_9_2, x_9_3, x_9_4, x_9_5, x_9_6, x_9_7, x_9_8, x_9_9]]\n",
      "[[7, 1, 5, 8, 9, 4, 6, 3, 2],\n",
      " [2, 3, 4, 5, 1, 6, 8, 9, 7],\n",
      " [6, 8, 9, 7, 2, 3, 1, 4, 5],\n",
      " [4, 9, 3, 6, 5, 7, 2, 1, 8],\n",
      " [8, 6, 7, 2, 3, 1, 9, 5, 4],\n",
      " [1, 5, 2, 4, 8, 9, 7, 6, 3],\n",
      " [3, 7, 6, 1, 4, 8, 5, 2, 9],\n",
      " [9, 2, 8, 3, 6, 5, 4, 7, 1],\n",
      " [5, 4, 1, 9, 7, 2, 3, 8, 6]]\n"
     ]
    }
   ],
   "source": [
    "# The following is soduku\n",
    "# 9x9 matrix of integer variables\n",
    "X = [ [ Int(\"x_%s_%s\" % (i+1, j+1)) for j in range(9) ]\n",
    "      for i in range(9) ]\n",
    "print(X)\n",
    "\n",
    "# each cell contains a value in {1, ..., 9}\n",
    "cells_c  = [ And(1 <= X[i][j], X[i][j] <= 9)\n",
    "             for i in range(9) for j in range(9) ]\n",
    "\n",
    "# each row contains a digit at most once\n",
    "rows_c   = [ Distinct(X[i]) for i in range(9) ]\n",
    "\n",
    "# each column contains a digit at most once\n",
    "cols_c   = [ Distinct([ X[i][j] for i in range(9) ])\n",
    "             for j in range(9) ]\n",
    "\n",
    "# each 3x3 square contains a digit at most once\n",
    "sq_c     = [ Distinct([ X[3*i0 + i][3*j0 + j]\n",
    "                        for i in range(3) for j in range(3) ])\n",
    "             for i0 in range(3) for j0 in range(3) ]\n",
    "\n",
    "sudoku_c = cells_c + rows_c + cols_c + sq_c\n",
    "\n",
    "# sudoku instance, we use '0' for empty cells\n",
    "instance = ((0,0,0,0,9,4,0,3,0),\n",
    "            (0,0,0,5,1,0,0,0,7),\n",
    "            (0,8,9,0,0,0,0,4,0),\n",
    "            (0,0,0,0,0,0,2,0,8),\n",
    "            (0,6,0,2,0,1,0,5,0),\n",
    "            (1,0,2,0,0,0,0,0,0),\n",
    "            (0,7,0,0,0,0,5,2,0),\n",
    "            (9,0,0,0,6,5,0,0,0),\n",
    "            (0,4,0,9,7,0,0,0,0))\n",
    "\n",
    "instance_c = [ If(instance[i][j] == 0,\n",
    "                  True,\n",
    "                  X[i][j] == instance[i][j])\n",
    "               for i in range(9) for j in range(9) ]\n",
    "\n",
    "s = Solver()\n",
    "s.add(sudoku_c + instance_c)\n",
    "if s.check() == sat:\n",
    "    m = s.model()\n",
    "    r = [ [ m.evaluate(X[i][j]) for j in range(9) ]\n",
    "          for i in range(9) ]\n",
    "    print_matrix(r)\n",
    "else:\n",
    "    print (\"failed to solve\")"
   ]
  },
  {
   "cell_type": "code",
   "execution_count": 22,
   "metadata": {},
   "outputs": [
    {
     "data": {
      "text/html": [
       "<b>unsat</b>"
      ],
      "text/plain": [
       "unsat"
      ]
     },
     "execution_count": 22,
     "metadata": {},
     "output_type": "execute_result"
    }
   ],
   "source": [
    "from z3 import *\n",
    "\n",
    "# Create a solver\n",
    "s = Solver()\n",
    "\n",
    "# Create some boolean variables for the properties of Fae\n",
    "Impus = Bool('Impus')\n",
    "Jompus = Bool('Jompus')\n",
    "Rompus = Bool('Rompus')\n",
    "Wumpus = Bool('Wumpus')\n",
    "Zumpus = Bool('Zumpus')\n",
    "Dumpus = Bool('Dumpus')\n",
    "Vumpus = Bool('Vumpus')\n",
    "Numpus = Bool('Numpus')\n",
    "Sweet = Bool('Sweet')\n",
    "\n",
    "# Add the implications\n",
    "s.add(Implies(Impus, Jompus))\n",
    "s.add(Implies(Jompus, Rompus))\n",
    "s.add(Implies(Rompus, Wumpus))\n",
    "s.add(Implies(Wumpus, Zumpus))\n",
    "s.add(Implies(Zumpus, Dumpus))\n",
    "s.add(Implies(Dumpus, Vumpus))\n",
    "s.add(Implies(Vumpus, Numpus))\n",
    "s.add(Implies(Numpus, Not(Sweet)))\n",
    "\n",
    "# Add the fact that Fae is a Wumpus\n",
    "s.add(Wumpus)\n",
    "\n",
    "# Now we can check whether Fae is sweet\n",
    "s.check(Sweet)  # This will print \"unsat\" if Fae is not sweet"
   ]
  },
  {
   "cell_type": "code",
   "execution_count": 12,
   "metadata": {},
   "outputs": [
    {
     "name": "stdout",
     "output_type": "stream",
     "text": [
      "unsat\n"
     ]
    }
   ],
   "source": [
    "from z3 import * \n",
    "\n",
    "# Create solver object\n",
    "solver = Solver()\n",
    "\n",
    "# Variables for properties: \n",
    "Aggressive = Bool('Aggressive')\n",
    "Luminous = Bool('Luminous')\n",
    "Orange = Bool('Orange')\n",
    "Earthy = Bool('Earthy')\n",
    "Sweet = Bool('Sweet')\n",
    "Bright = Bool('Bright')\n",
    "Small = Bool('Small')\n",
    "Cold = Bool('Cold')\n",
    "variables = [Aggressive, Luminous, Orange, Earthy, Sweet, Bright, Small, Cold]\n",
    "for v in variables:\n",
    "    solver.add(v)\n",
    "\n",
    "\n",
    "# Variables for entities\n",
    "Zumpus = Bool('Zumpus')\n",
    "Yumpus = Bool('Yumpus')\n",
    "Wumpus = Bool('Wumpus')\n",
    "Jompus = Bool('Jompus')\n",
    "Numpus = Bool('Numpus')\n",
    "Rompus = Bool('Rompus')\n",
    "Vumpus = Bool('Vumpus')\n",
    "Dumpus = Bool('Dumpus')\n",
    "Tumpus = Bool('Tumpus')\n",
    "Impus = Bool('Impus')\n",
    "entities = [Zumpus, Yumpus, Wumpus, Jompus, Numpus, Rompus, Vumpus, Dumpus, Tumpus, Impus]\n",
    "for e in entities:\n",
    "    solver.add(e)\n",
    "\n",
    "# Relationships\n",
    "Zumpus_implies_Aggressive = Implies(Zumpus, True)\n",
    "Zumpus_implies_Yumpus = Implies(Zumpus, Yumpus)\n",
    "Wumpus_implies_Small = Implies(Wumpus, False)\n",
    "Yumpus_implies_Luminous = Implies(Yumpus, False)\n",
    "Yumpus_implies_Jompus = Implies(Yumpus, Jompus)\n",
    "Jompus_implies_Orange = Implies(Jompus, True)\n",
    "Jompus_implies_Numpus = Implies(Jompus, Numpus)\n",
    "Numpus_implies_Earthy = Implies(Numpus, True)\n",
    "Numpus_implies_Rompus = Implies(Numpus, Rompus)\n",
    "Rompus_implies_Sweet = Implies(Rompus, False)\n",
    "Rompus_implies_Vumpus = Implies(Rompus, Vumpus)\n",
    "Vumpus_implies_Bright = Implies(Vumpus, True)\n",
    "Vumpus_implies_Dumpus = Implies(Vumpus, Dumpus)\n",
    "Dumpus_implies_Small = Implies(Dumpus, True)\n",
    "Dumpus_implies_Tumpus = Implies(Dumpus, Tumpus)\n",
    "Tumpus_implies_Cold = Implies(Tumpus, True)\n",
    "Tumpus_implies_Impus = Implies(Tumpus, Impus)\n",
    "\n",
    "\n",
    "relationships = [Zumpus_implies_Aggressive, \n",
    "Zumpus_implies_Yumpus,\n",
    "Wumpus_implies_Small,\n",
    "Yumpus_implies_Luminous,\n",
    "Yumpus_implies_Jompus,\n",
    "Jompus_implies_Orange,\n",
    "Jompus_implies_Numpus,\n",
    "Numpus_implies_Earthy,\n",
    "Numpus_implies_Rompus,\n",
    "Rompus_implies_Sweet,\n",
    "Rompus_implies_Vumpus,\n",
    "Vumpus_implies_Bright,\n",
    "Vumpus_implies_Dumpus,\n",
    "Dumpus_implies_Small,\n",
    "Dumpus_implies_Tumpus,\n",
    "Tumpus_implies_Cold,\n",
    "Tumpus_implies_Impus]\n",
    "for r in relationships:\n",
    "    solver.add(r)\n",
    "\n",
    "# Fact:\n",
    "solver.add(Jompus)\n",
    "\n",
    "print(solver.check(Small))"
   ]
  },
  {
   "cell_type": "code",
   "execution_count": 13,
   "metadata": {},
   "outputs": [
    {
     "name": "stdout",
     "output_type": "stream",
     "text": [
      "The statement 'Max is sour' is false.\n"
     ]
    }
   ],
   "source": [
    "from z3 import *\n",
    "\n",
    "# Create Z3 variables for each entity\n",
    "jompus = Bool('jompus')\n",
    "yumpus = Bool('yumpus')\n",
    "aggressive = Bool('aggressive')\n",
    "dumpus = Bool('dumpus')\n",
    "wooden = Bool('wooden')\n",
    "wumpus = Bool('wumpus')\n",
    "red = Bool('red')\n",
    "impus = Bool('impus')\n",
    "opaque = Bool('opaque')\n",
    "tumpus = Bool('tumpus')\n",
    "numpus = Bool('numpus')\n",
    "sour = Bool('sour')\n",
    "vumpus = Bool('vumpus')\n",
    "earthy = Bool('earthy')\n",
    "zumpus = Bool('zumpus')\n",
    "rompus = Bool('rompus')\n",
    "max = Bool('max')\n",
    "\n",
    "# Create a Z3 solver\n",
    "solver = Solver()\n",
    "\n",
    "# Add constraints based on the given statements\n",
    "# Jompuses are not shy.\n",
    "solver.add(Implies(jompus, Not(yumpus)))\n",
    "# Jompuses are yumpuses.\n",
    "solver.add(Implies(jompus, yumpus))\n",
    "# Each yumpus is aggressive.\n",
    "solver.add(Implies(yumpus, aggressive))\n",
    "# Each yumpus is a dumpus.\n",
    "solver.add(Implies(yumpus, dumpus))\n",
    "# Dumpuses are not wooden.\n",
    "solver.add(Implies(dumpus, Not(wooden)))\n",
    "# Dumpuses are wumpuses.\n",
    "solver.add(Implies(dumpus, wumpus))\n",
    "# Wumpuses are red.\n",
    "solver.add(Implies(wumpus, red))\n",
    "# Every wumpus is an impus.\n",
    "solver.add(Implies(wumpus, impus))\n",
    "# Each impus is opaque.\n",
    "solver.add(Implies(impus, opaque))\n",
    "# Impuses are tumpuses.\n",
    "solver.add(Implies(impus, tumpus))\n",
    "# Numpuses are sour.\n",
    "solver.add(Implies(numpus, sour))\n",
    "# Tumpuses are not sour.\n",
    "solver.add(Implies(tumpus, Not(sour)))\n",
    "# Tumpuses are vumpuses.\n",
    "solver.add(Implies(tumpus, vumpus))\n",
    "# Vumpuses are earthy.\n",
    "solver.add(Implies(vumpus, earthy))\n",
    "# Every vumpus is a zumpus.\n",
    "solver.add(Implies(vumpus, zumpus))\n",
    "# Zumpuses are small.\n",
    "solver.add(Implies(zumpus, rompus))\n",
    "# Zumpuses are rompuses.\n",
    "\n",
    "# Max is a yumpus.\n",
    "solver.add(Implies(max, yumpus))\n",
    "\n",
    "# Add the negation of the statement to check if it is false\n",
    "solver.add(Not(sour))\n",
    "\n",
    "# Check if there is a satisfying model\n",
    "if solver.check() == sat:\n",
    "    print(\"The statement 'Max is sour' is false.\")\n",
    "else:\n",
    "    print(\"The statement 'Max is sour' is true.\")"
   ]
  },
  {
   "cell_type": "code",
   "execution_count": 15,
   "metadata": {},
   "outputs": [
    {
     "name": "stdout",
     "output_type": "stream",
     "text": [
      "The statement is true: Max is not sour.\n"
     ]
    }
   ],
   "source": [
    "from z3 import *\n",
    "\n",
    "context = []\n",
    "Jompus, Yumpus, Dumpus, Wumpus, Impus, Tumpus, Numpus, Vumpus, Zumpus, Max = Bools('Jompus Yumpus Dumpus Wumpus Impus Tumpus Numpus Vumpus Zumpus Max')\n",
    "\n",
    "# Jompuses are not shy.\n",
    "context.append(Not(Jompus))\n",
    "# Jompuses are yumpuses.\n",
    "context.append(Yumpus == Jompus)\n",
    "# Each yumpus is aggressive.\n",
    "context.append(ForAll([Yumpus], Yumpus == Max))\n",
    "# Each yumpus is a dumpus.\n",
    "context.append(Dumpus == Yumpus)\n",
    "# Dumpuses are not wooden.\n",
    "context.append(Not(Dumpus))\n",
    "# Dumpuses are wumpuses.\n",
    "context.append(Wumpus == Dumpus)\n",
    "# Wumpuses are red.\n",
    "context.append(Wumpus)\n",
    "# Every wumpus is an impus.\n",
    "context.append(Impus == Wumpus)\n",
    "# Each impus is opaque.\n",
    "context.append(Impus)\n",
    "# Impuses are tumpuses.\n",
    "context.append(Tumpus == Impus)\n",
    "# Numpuses are sour.\n",
    "context.append(Numpus)\n",
    "# Tumpuses are not sour.\n",
    "context.append(Not(Tumpus == Numpus))\n",
    "# Tumpuses are vumpuses.\n",
    "context.append(Vumpus == Tumpus)\n",
    "# Vumpuses are earthy.\n",
    "context.append(Vumpus)\n",
    "# Every vumpus is a zumpus.\n",
    "context.append(Zumpus == Vumpus)\n",
    "# Zumpuses are small.\n",
    "context.append(Zumpus)\n",
    "# Zumpuses are rompuses.\n",
    "context.append(Zumpus == Yumpus)\n",
    "\n",
    "# Check for the statement: Max is sour.\n",
    "statement = Numpus == Max\n",
    "\n",
    "solver = Solver()\n",
    "solver.add(context)\n",
    "solver.add(Not(statement))\n",
    "\n",
    "if solver.check() == unsat:\n",
    "    print(\"The statement is true: Max is not sour.\")\n",
    "else:\n",
    "    print(\"The statement is false: Max is sour.\")\n"
   ]
  },
  {
   "cell_type": "code",
   "execution_count": 16,
   "metadata": {},
   "outputs": [
    {
     "ename": "NameError",
     "evalue": "name 'small' is not defined",
     "output_type": "error",
     "traceback": [
      "\u001b[0;31m---------------------------------------------------------------------------\u001b[0m",
      "\u001b[0;31mNameError\u001b[0m                                 Traceback (most recent call last)",
      "Cell \u001b[0;32mIn[16], line 40\u001b[0m\n\u001b[1;32m     38\u001b[0m solver\u001b[39m.\u001b[39madd(Implies(vumpus, earthy))\n\u001b[1;32m     39\u001b[0m solver\u001b[39m.\u001b[39madd(Implies(vumpus, zumpus))\n\u001b[0;32m---> 40\u001b[0m solver\u001b[39m.\u001b[39madd(Implies(zumpus, small))\n\u001b[1;32m     41\u001b[0m solver\u001b[39m.\u001b[39madd(Implies(zumpus, rompus))\n\u001b[1;32m     42\u001b[0m solver\u001b[39m.\u001b[39madd(max_is_yumpus)\n",
      "\u001b[0;31mNameError\u001b[0m: name 'small' is not defined"
     ]
    }
   ],
   "source": [
    "from z3 import *\n",
    "\n",
    "# Create boolean variables for each entity\n",
    "jompus = Bool('jompus')\n",
    "yumpus = Bool('yumpus')\n",
    "aggressive = Bool('aggressive')\n",
    "dumpus = Bool('dumpus')\n",
    "wooden = Bool('wooden')\n",
    "wumpus = Bool('wumpus')\n",
    "red = Bool('red')\n",
    "impus = Bool('impus')\n",
    "opaque = Bool('opaque')\n",
    "tumpus = Bool('tumpus')\n",
    "numpus = Bool('numpus')\n",
    "sour = Bool('sour')\n",
    "vumpus = Bool('vumpus')\n",
    "earthy = Bool('earthy')\n",
    "zumpus = Bool('zumpus')\n",
    "rompus = Bool('rompus')\n",
    "small = Bool(\"small\")\n",
    "max_is_yumpus = Bool('max_is_yumpus')\n",
    "\n",
    "# Create a solver instance\n",
    "solver = Solver()\n",
    "\n",
    "# Add the conditions provided in the context\n",
    "solver.add(Implies(jompus, Not(yumpus)))\n",
    "solver.add(Implies(yumpus, aggressive))\n",
    "solver.add(Implies(yumpus, dumpus))\n",
    "solver.add(Implies(dumpus, Not(wooden)))\n",
    "solver.add(Implies(dumpus, wumpus))\n",
    "solver.add(Implies(wumpus, red))\n",
    "solver.add(Implies(wumpus, impus))\n",
    "solver.add(Implies(impus, opaque))\n",
    "solver.add(Implies(impus, tumpus))\n",
    "solver.add(Implies(numpus, sour))\n",
    "solver.add(Implies(tumpus, Not(sour)))\n",
    "solver.add(Implies(tumpus, vumpus))\n",
    "solver.add(Implies(vumpus, earthy))\n",
    "solver.add(Implies(vumpus, zumpus))\n",
    "solver.add(Implies(zumpus, small))\n",
    "solver.add(Implies(zumpus, rompus))\n",
    "solver.add(max_is_yumpus)\n",
    "\n",
    "# Add the statement to be checked\n",
    "statement = Not(sour)\n",
    "\n",
    "# Check if the statement is consistent with the context\n",
    "solver.add(Implies(max_is_yumpus, statement))\n",
    "\n",
    "# Check if the solver can find a model that satisfies the conditions\n",
    "if solver.check() == sat:\n",
    "    print(\"A\")  # The statement is true\n",
    "else:\n",
    "    print(\"B\")  # The statement is false"
   ]
  }
 ],
 "metadata": {
  "kernelspec": {
   "display_name": "llm-logic",
   "language": "python",
   "name": "python3"
  },
  "language_info": {
   "codemirror_mode": {
    "name": "ipython",
    "version": 3
   },
   "file_extension": ".py",
   "mimetype": "text/x-python",
   "name": "python",
   "nbconvert_exporter": "python",
   "pygments_lexer": "ipython3",
   "version": "3.10.0"
  },
  "orig_nbformat": 4
 },
 "nbformat": 4,
 "nbformat_minor": 2
}
